{
  "nbformat": 4,
  "nbformat_minor": 0,
  "metadata": {
    "colab": {
      "provenance": []
    },
    "kernelspec": {
      "name": "python3",
      "display_name": "Python 3"
    },
    "language_info": {
      "name": "python"
    }
  },
  "cells": [
    {
      "cell_type": "code",
      "metadata": {
        "colab": {
          "base_uri": "https://localhost:8080/"
        },
        "id": "gSr0k3KdVJlU",
        "outputId": "f220b44d-fe5e-497c-b05c-5e200eb0ac26"
      },
      "source": [
        "# google drive 마운트\n",
        "from google.colab import drive\n",
        "drive.mount(\"/content/drive\")\n",
        "\n",
        "import numpy as np\n",
        "import pandas as pd\n",
        "\n",
        "# 데이터 읽어 오기 \n",
        "rating_cols = ['user_id', 'movie_id', 'rating', 'timestamp']\n",
        "ratings = pd.read_csv('/content/drive/My Drive/data/u.data', sep='\\t', names=rating_cols) \n",
        "\n",
        "# timestamp 제거 \n",
        "ratings = ratings.drop('timestamp', axis=1)\n",
        "\n",
        "# 정확도(RMSE)를 계산하는 함수\n",
        "def RMSE(y_true, y_pred):\n",
        "  return np.sqrt(np.mean((np.array(y_true) - np.array(y_pred))**2))\n",
        "\n",
        "# 매트릭스 실제값들로 RMSE 계산\n",
        "def mf_rmse(R, PQ):\n",
        "  rows, columns = R.shape\n",
        "\n",
        "  R_non_zeros = []\n",
        "  PQ_non_zeros = []\n",
        "\n",
        "  for i in range(rows):\n",
        "    for j in range(columns):\n",
        "      if ~(np.isnan(R[i, j])):\n",
        "        R_non_zeros.append(R[i, j])\n",
        "        PQ_non_zeros.append(PQ[i, j])\n",
        "\n",
        "  return RMSE(R_non_zeros, PQ_non_zeros)"
      ],
      "execution_count": null,
      "outputs": [
        {
          "output_type": "stream",
          "name": "stdout",
          "text": [
            "Mounted at /content/drive\n"
          ]
        }
      ]
    },
    {
      "cell_type": "code",
      "metadata": {
        "colab": {
          "base_uri": "https://localhost:8080/",
          "height": 145
        },
        "id": "V88JGpDmVV9D",
        "outputId": "7e347ea6-115b-4ad6-e6cc-6181b383747f"
      },
      "source": [
        "# train 데이터로 Full matrix 구하기 \n",
        "R = ratings.pivot(index='user_id', columns='movie_id', values='rating').to_numpy()\n",
        "display(R)"
      ],
      "execution_count": null,
      "outputs": [
        {
          "output_type": "display_data",
          "data": {
            "text/plain": [
              "array([[ 5.,  3.,  4., ..., nan, nan, nan],\n",
              "       [ 4., nan, nan, ..., nan, nan, nan],\n",
              "       [nan, nan, nan, ..., nan, nan, nan],\n",
              "       ...,\n",
              "       [ 5., nan, nan, ..., nan, nan, nan],\n",
              "       [nan, nan, nan, ..., nan, nan, nan],\n",
              "       [nan,  5., nan, ..., nan, nan, nan]])"
            ]
          },
          "metadata": {}
        }
      ]
    },
    {
      "cell_type": "code",
      "metadata": {
        "id": "z3j1ad59VV6F"
      },
      "source": [
        "num_users, num_movies = R.shape   # R.shape : (높이, 길이)\n",
        "\n",
        "K = 100  # feature 개수\n",
        "P = np.random.normal(size=(num_users, K)) # 정규분표(normal distribution)로 랜덤 값을 size의 행렬에 채움\n",
        "Q = np.random.normal(size=(K, num_movies))"
      ],
      "execution_count": null,
      "outputs": []
    },
    {
      "cell_type": "code",
      "metadata": {
        "colab": {
          "base_uri": "https://localhost:8080/"
        },
        "id": "ZE2JALXTVV3S",
        "outputId": "d1867777-887e-4b45-f2c2-38c347b2b9d6"
      },
      "source": [
        "learning_rate = 0.005  # 학습률\n",
        "r_rate = 0.005 # 정규화 적용률\n",
        "\n",
        "for epoch in range(20):  # 학습 반복 횟수\n",
        "  for i in range(num_users):\n",
        "    for j in range(num_movies):\n",
        "      true_r = R[i, j]  # 실제 평점\n",
        "      if np.isnan(true_r) :   # 평점이 없으면 다음 평점으로 이동\n",
        "        continue\n",
        "      \n",
        "      pred_r = np.dot(P[i, :], Q[:, j])   # 예측 평점\n",
        "      error = true_r - pred_r   # 오차\n",
        "\n",
        "      # SGD 적용, P, Q 갱신\n",
        "      P[i, :] = P[i, :] + learning_rate*(error * Q[:, j] - r_rate*P[i, :])\n",
        "      Q[:, j] = Q[:, j] + learning_rate*(error * P[i, :] - r_rate*Q[:, j])\n",
        "\n",
        "  print(\"RMSE\", epoch, mf_rmse(R, np.dot(P, Q)))\n"
      ],
      "execution_count": null,
      "outputs": [
        {
          "output_type": "stream",
          "name": "stdout",
          "text": [
            "RMSE 0 3.0137838109842785\n",
            "RMSE 1 1.5728348248999777\n",
            "RMSE 2 1.1820292571403717\n",
            "RMSE 3 0.9989365191805852\n",
            "RMSE 4 0.8893742905696391\n",
            "RMSE 5 0.8162674016721403\n",
            "RMSE 6 0.7638754013060753\n",
            "RMSE 7 0.7243632899471222\n",
            "RMSE 8 0.6933943904361902\n",
            "RMSE 9 0.6683749205968696\n",
            "RMSE 10 0.6476594997470292\n",
            "RMSE 11 0.6301545409624354\n",
            "RMSE 12 0.6151051549569216\n",
            "RMSE 13 0.6019736801423146\n",
            "RMSE 14 0.5903669880808485\n",
            "RMSE 15 0.5799911598336929\n",
            "RMSE 16 0.5706222202829679\n",
            "RMSE 17 0.5620866598320579\n",
            "RMSE 18 0.5542481226954281\n",
            "RMSE 19 0.5469980952039377\n"
          ]
        }
      ]
    },
    {
      "cell_type": "code",
      "metadata": {
        "colab": {
          "base_uri": "https://localhost:8080/",
          "height": 417
        },
        "id": "Kex0OFidVV0b",
        "outputId": "e6e3f8d3-1c35-4a82-ea4d-c05a05ceb685"
      },
      "source": [
        "display(\"R\", R)\n",
        "display(\"PQ\", np.dot(P, Q))"
      ],
      "execution_count": null,
      "outputs": [
        {
          "output_type": "display_data",
          "data": {
            "application/vnd.google.colaboratory.intrinsic+json": {
              "type": "string"
            },
            "text/plain": [
              "'R'"
            ]
          },
          "metadata": {}
        },
        {
          "output_type": "display_data",
          "data": {
            "text/plain": [
              "array([[ 5.,  3.,  4., ..., nan, nan, nan],\n",
              "       [ 4., nan, nan, ..., nan, nan, nan],\n",
              "       [nan, nan, nan, ..., nan, nan, nan],\n",
              "       ...,\n",
              "       [ 5., nan, nan, ..., nan, nan, nan],\n",
              "       [nan, nan, nan, ..., nan, nan, nan],\n",
              "       [nan,  5., nan, ..., nan, nan, nan]])"
            ]
          },
          "metadata": {}
        },
        {
          "output_type": "display_data",
          "data": {
            "application/vnd.google.colaboratory.intrinsic+json": {
              "type": "string"
            },
            "text/plain": [
              "'PQ'"
            ]
          },
          "metadata": {}
        },
        {
          "output_type": "display_data",
          "data": {
            "text/plain": [
              "array([[  4.27918634,   3.07788811,   4.59180113, ...,   1.66558568,\n",
              "          0.46932598,  -1.51602565],\n",
              "       [  3.34069234,   1.20363506,  -6.36627378, ...,   3.27375807,\n",
              "         -5.79801673,   5.87447271],\n",
              "       [  0.33454104,   3.89058908,  -7.99997869, ...,  -0.53309784,\n",
              "         -4.98593468,   0.55576142],\n",
              "       ...,\n",
              "       [  5.20846914,  15.63765173, -11.21535474, ...,   9.09609584,\n",
              "          8.51585366,  -4.53310087],\n",
              "       [  4.99164637,  -2.3656031 ,   4.10014516, ...,  11.02236546,\n",
              "          9.36125927,  -6.21162549],\n",
              "       [  2.95585568,   4.51698819,   7.81731077, ...,  -5.06242686,\n",
              "         -3.63498128,  -4.71339752]])"
            ]
          },
          "metadata": {}
        }
      ]
    }
  ]
}